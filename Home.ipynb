{
 "cells": [
  {
   "cell_type": "code",
   "execution_count": 1,
   "id": "5edf4c95-f6d4-4db9-8d3e-b355f7388c75",
   "metadata": {},
   "outputs": [
    {
     "name": "stdout",
     "output_type": "stream",
     "text": [
      "Requirement already satisfied: flask in /Users/sayantanichowdhury/Library/jupyterlab-desktop/envs/projects/lib/python3.12/site-packages (3.0.3)\n",
      "Requirement already satisfied: Werkzeug>=3.0.0 in /Users/sayantanichowdhury/Library/jupyterlab-desktop/envs/projects/lib/python3.12/site-packages (from flask) (3.0.3)\n",
      "Requirement already satisfied: Jinja2>=3.1.2 in /Users/sayantanichowdhury/Library/jupyterlab-desktop/envs/projects/lib/python3.12/site-packages (from flask) (3.1.4)\n",
      "Requirement already satisfied: itsdangerous>=2.1.2 in /Users/sayantanichowdhury/Library/jupyterlab-desktop/envs/projects/lib/python3.12/site-packages (from flask) (2.2.0)\n",
      "Requirement already satisfied: click>=8.1.3 in /Users/sayantanichowdhury/Library/jupyterlab-desktop/envs/projects/lib/python3.12/site-packages (from flask) (8.1.7)\n",
      "Requirement already satisfied: blinker>=1.6.2 in /Users/sayantanichowdhury/Library/jupyterlab-desktop/envs/projects/lib/python3.12/site-packages (from flask) (1.8.2)\n",
      "Requirement already satisfied: MarkupSafe>=2.0 in /Users/sayantanichowdhury/Library/jupyterlab-desktop/envs/projects/lib/python3.12/site-packages (from Jinja2>=3.1.2->flask) (2.1.5)\n",
      "Note: you may need to restart the kernel to use updated packages.\n"
     ]
    }
   ],
   "source": [
    "pip install flask"
   ]
  },
  {
   "cell_type": "code",
   "execution_count": null,
   "id": "039bdc59-cdc1-4352-8ce4-dc16db82f3b6",
   "metadata": {},
   "outputs": [],
   "source": [
    "from flask import Flask, render_template, request, url_for, redirect\n",
    "import os\n",
    "\n",
    "app = Flask(__name__)\n",
    "app.config['UPLOAD_FOLDER'] = './static/pics'\n",
    "\n",
    "@app.route('/')\n",
    "def index():\n",
    "    # Get list of images in the upload directory\n",
    "    images = os.listdir(app.config['UPLOAD_FOLDER'])\n",
    "    image_urls = [url_for('static', filename=f'pics/{image}') for image in images]\n",
    "    return render_template('index.html', images=image_urls)\n",
    "\n",
    "@app.route('/upload', methods=['POST'])\n",
    "def upload():\n",
    "    if 'image' in request.files:\n",
    "        image = request.files['image']\n",
    "        if image.filename != '':\n",
    "            image.save(os.path.join(app.config['UPLOAD_FOLDER'], image.filename))\n",
    "    return redirect(url_for('index'))\n",
    "\n",
    "if __name__ == '__main__':\n",
    "    app.run(host=os.getenv('IP', '0.0.0.0'), \n",
    "        port=int(os.getenv('PORT', 4444)))\n",
    "    #app.run(debug=True,port=8002)"
   ]
  }
 ],
 "metadata": {
  "kernelspec": {
   "display_name": "Python 3 (ipykernel)",
   "language": "python",
   "name": "python3"
  },
  "language_info": {
   "codemirror_mode": {
    "name": "ipython",
    "version": 3
   },
   "file_extension": ".py",
   "mimetype": "text/x-python",
   "name": "python",
   "nbconvert_exporter": "python",
   "pygments_lexer": "ipython3",
   "version": "3.12.4"
  }
 },
 "nbformat": 4,
 "nbformat_minor": 5
}
